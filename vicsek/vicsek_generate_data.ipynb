{
 "cells": [
  {
   "cell_type": "code",
   "execution_count": 1,
   "id": "09f8b12f",
   "metadata": {},
   "outputs": [],
   "source": [
    "\n",
    "import numpy as np\n",
    "# import scipy as sp\n",
    "# from scipy import sparse\n",
    "# from scipy.spatial import cKDTree\n",
    "import matplotlib.pyplot as plt\n",
    "from matplotlib.animation import FuncAnimation\n",
    "from tqdm import tqdm\n",
    "from scipy.spatial.distance import cdist\n",
    "from utils import *\n",
    "import pickle as pkl"
   ]
  },
  {
   "cell_type": "markdown",
   "id": "90872908",
   "metadata": {},
   "source": [
    "## 生成训练数据\n",
    "4月30日记录数据生成的思路：\n",
    "\n",
    "实验设计：\n",
    "1. 对比不同态的模型准确度\n",
    "2. 对比临界态不同密度的准确度变化\n",
    "\n",
    "数据生成选择\n",
    "1. 生成rho=2的三个态，rho=2时理论临界噪声=3.65，实际要看数据波动情况选择近似\n",
    "2. 生成临界态rho=1,rho=2,rho=3三个密度数据，分别对应的理论临界噪声为3.0,3.65,4.0，具体还是要看数据波动情况选择近似"
   ]
  },
  {
   "cell_type": "code",
   "execution_count": 2,
   "id": "7c492ba3",
   "metadata": {},
   "outputs": [
    {
     "data": {
      "text/plain": [
       "1228.8"
      ]
     },
     "execution_count": 2,
     "metadata": {},
     "output_type": "execute_result"
    }
   ],
   "source": [
    "L=64\n",
    "rho=0.3\n",
    "N = L*L*rho\n",
    "N"
   ]
  },
  {
   "cell_type": "markdown",
   "id": "22fb4151",
   "metadata": {},
   "source": [
    "## 将数据转化为速度场"
   ]
  },
  {
   "cell_type": "code",
   "execution_count": 3,
   "id": "20356351",
   "metadata": {},
   "outputs": [],
   "source": [
    "\n",
    "\n",
    "# Viscek model to velocity field\n",
    "def viscek_to_velocity_field(positions, velocities, box_size, resolution):\n",
    "    field_shape = (int(box_size / resolution), int(box_size / resolution), 2)\n",
    "    velocity_field = np.zeros(field_shape)\n",
    "#     print(positions.shape, velocities)\n",
    "    for p, v in zip(positions, velocities):\n",
    "        i, j = (p / resolution).astype(int)\n",
    "        velocity_field[i, j] += v\n",
    "\n",
    "    return velocity_field\n",
    "\n",
    "\n",
    "# Viscek model to velocity field\n",
    "def viscek_to_density_field(positions, velocities, box_size, resolution):\n",
    "    field_shape = (int(box_size / resolution), int(box_size / resolution))\n",
    "    density_field = np.zeros(field_shape)\n",
    "#     print(positions.shape, velocities)\n",
    "    for index,(p, v) in enumerate(zip(positions, velocities)):\n",
    "        i, j = (p / resolution).astype(int)\n",
    "        density_field[i, j] += 1\n",
    "\n",
    "    return density_field"
   ]
  },
  {
   "cell_type": "code",
   "execution_count": 4,
   "id": "d9fa0427",
   "metadata": {},
   "outputs": [
    {
     "data": {
      "text/plain": [
       "76.8"
      ]
     },
     "execution_count": 4,
     "metadata": {},
     "output_type": "execute_result"
    }
   ],
   "source": [
    "16*0.3*16"
   ]
  },
  {
   "cell_type": "code",
   "execution_count": 85,
   "id": "865713ec",
   "metadata": {
    "scrolled": true
   },
   "outputs": [
    {
     "name": "stdout",
     "output_type": "stream",
     "text": [
      "rho= 0.2998046875\n",
      "0.3\n"
     ]
    },
    {
     "name": "stderr",
     "output_type": "stream",
     "text": [
      "100%|███████████████████████████████████████████████████████████████████████████████████████████████████████████████| 20/20 [02:27<00:00,  7.36s/it]\n"
     ]
    },
    {
     "name": "stdout",
     "output_type": "stream",
     "text": [
      "(20, 300, 64, 64, 3)\n"
     ]
    }
   ],
   "source": [
    "L=64#16#10#3.65\n",
    "N =1228#78#8192#2048#30\n",
    "# L = 10\n",
    "# N = 100\n",
    "print('rho=',N/L/L)\n",
    "# eta=0.5#0.2#0.45#1\n",
    "r_vision=1\n",
    "rho = round(N/L/L,2)\n",
    "print(rho)\n",
    "box_size = L\n",
    "resolution = 1\n",
    "lattice = int(box_size/resolution)\n",
    "repeat = 20\n",
    "timestep = 300#1000\n",
    "seed = 2050\n",
    "eta= 2#2#0.5#3.25#2#\n",
    "\n",
    "init_data = generate_vecsek_data(N, L)\n",
    "fields = np.zeros([repeat,timestep,lattice,lattice,3])\n",
    "# field = np.zeros([data_all.shape[0],data_all.shape[1],lattice,lattice])\n",
    "for r in enumerate(tqdm(range(repeat))):\n",
    "#     init_data = generate_vecsek_data(N, L)\n",
    "    data = init_data.copy()\n",
    "    for i in range(timestep):\n",
    "        data,adj = vecsek_update(data, eta, r_vision,L)\n",
    "        del adj\n",
    "#         if i >= 500:\n",
    "#             fields[r,i-500,:,:,0] = viscek_to_density_field(data[:,:2], data[:,2:], box_size, resolution)\n",
    "#             fields[r,i-500,:,:,1:] = viscek_to_velocity_field(data[:,:2], data[:,2:], box_size, resolution)\n",
    "        \n",
    "        fields[r,i,:,:,0] = viscek_to_density_field(data[:,:2], data[:,2:], box_size, resolution)\n",
    "        fields[r,i,:,:,1:] = viscek_to_velocity_field(data[:,:2], data[:,2:], box_size, resolution)\n",
    "\n",
    "print(fields.shape)\n",
    "with open(f'./data/rho=0.3/p=0.3_eta={eta}_L={L}_field_{seed}_test.pkl','wb') as f:\n",
    "# with open(f'./data/rho=0.3/p=0.3_eta={eta}_L=64_field_{seed}.pkl','wb') as f:\n",
    "    pkl.dump({'field':fields},f)"
   ]
  },
  {
   "cell_type": "code",
   "execution_count": 71,
   "id": "1e764b42",
   "metadata": {},
   "outputs": [],
   "source": [
    "def prob_density(data):\n",
    "    'transform to PDF'\n",
    "    b,t,l,_,f = data.shape\n",
    "    data = data.mean(0)\n",
    "    data = data / data.sum(axis=(1,2),keepdims=True)\n",
    "    return data"
   ]
  },
  {
   "cell_type": "code",
   "execution_count": 84,
   "id": "3fb921ea",
   "metadata": {
    "scrolled": true
   },
   "outputs": [
    {
     "data": {
      "text/plain": [
       "(500, 16, 16, 3)"
      ]
     },
     "execution_count": 84,
     "metadata": {},
     "output_type": "execute_result"
    }
   ],
   "source": [
    "eta=2.25\n",
    "seed=2050\n",
    "L=16\n",
    "with open(f'./data/rho=0.3/p=0.3_eta={eta}_L={L}_field_{seed}_test.pkl','rb') as f:\n",
    "    fields = pkl.load(f)['field']\n",
    "print(fields.shape)\n",
    "fields = prob_density(fields)\n",
    "with open(f'./data/rho=0.3/p=0.3_eta={eta}_L={L}_pdf_{seed}.pkl','wb') as f:\n",
    "    pkl.dump({'field':fields},f)\n",
    "fields.shape"
   ]
  },
  {
   "cell_type": "code",
   "execution_count": null,
   "id": "160fc9e5",
   "metadata": {},
   "outputs": [],
   "source": []
  },
  {
   "cell_type": "code",
   "execution_count": 58,
   "id": "b84f979e",
   "metadata": {},
   "outputs": [
    {
     "data": {
      "text/plain": [
       "((100, 500, 16, 16, 3), 78.0)"
      ]
     },
     "execution_count": 58,
     "metadata": {},
     "output_type": "execute_result"
    }
   ],
   "source": [
    "fields.shape,fields[0,-3,:,:,0].sum()"
   ]
  },
  {
   "cell_type": "code",
   "execution_count": 30,
   "id": "fd493bb1",
   "metadata": {},
   "outputs": [
    {
     "data": {
      "text/plain": [
       "array([[ 0.00226066,  0.05025032,  0.02065746, ...,  0.08495428,\n",
       "         0.17570624,  0.18140126],\n",
       "       [-0.07510795, -0.11627458, -0.1185886 , ..., -0.08028341,\n",
       "         0.02304083,  0.12786068],\n",
       "       [ 0.09845011,  0.17019203,  0.0384982 , ..., -0.05655143,\n",
       "        -0.04123403,  0.0187602 ],\n",
       "       ...,\n",
       "       [-0.13206679, -0.07062711, -0.04438126, ..., -0.05963482,\n",
       "         0.06597026,  0.15476079],\n",
       "       [-0.10558923, -0.0986735 , -0.15421722, ..., -0.17755764,\n",
       "        -0.15594474,  0.04600636],\n",
       "       [-0.18248495, -0.01154215,  0.07240802, ..., -0.07362131,\n",
       "        -0.01691555, -0.03075417]])"
      ]
     },
     "execution_count": 30,
     "metadata": {},
     "output_type": "execute_result"
    }
   ],
   "source": [
    "vx"
   ]
  },
  {
   "cell_type": "code",
   "execution_count": 29,
   "id": "8e980001",
   "metadata": {},
   "outputs": [
    {
     "name": "stdout",
     "output_type": "stream",
     "text": [
      "(20, 300)\n",
      "(20, 300)\n"
     ]
    },
    {
     "data": {
      "image/png": "[encoded data removed]",
      "text/plain": [
       "<Figure size 432x288 with 1 Axes>"
      ]
     },
     "metadata": {
      "needs_background": "light"
     },
     "output_type": "display_data"
    }
   ],
   "source": [
    "vx = np.sum(fields.reshape(repeat,300,-1,3)[:,:,:,1],axis=-1)/N\n",
    "vy = np.sum(fields.reshape(repeat,300,-1,3)[:,:,:,2],axis=-1)/N\n",
    "print(vx.shape)\n",
    "v_avg = np.linalg.norm(np.array([vx,vy]),axis=0)\n",
    "print(v_avg.shape)\n",
    "plt.plot(((vx+vy)/v_avg)[2,:])\n",
    "# print(np.mean(v_avg,axis=1))\n",
    "# plt.ylim(-1.5,1.5)\n",
    "plt.show()"
   ]
  },
  {
   "cell_type": "code",
   "execution_count": null,
   "id": "d2b866e5",
   "metadata": {},
   "outputs": [],
   "source": []
  },
  {
   "cell_type": "code",
   "execution_count": 27,
   "id": "af732de3",
   "metadata": {},
   "outputs": [
    {
     "data": {
      "text/plain": [
       "(20, 300, 32, 32, 3)"
      ]
     },
     "execution_count": 27,
     "metadata": {},
     "output_type": "execute_result"
    }
   ],
   "source": [
    "eta = 2\n",
    "seed = 2050\n",
    "with open(f'./data/rho=0.3/p=0.3_eta={eta}_L=32_field_{seed}.pkl','rb') as f:\n",
    "    field = pkl.load(f)['field'][:,:300,:,:,:]\n",
    "field.shape"
   ]
  },
  {
   "cell_type": "code",
   "execution_count": 28,
   "id": "7db3ff5c",
   "metadata": {},
   "outputs": [
    {
     "name": "stdout",
     "output_type": "stream",
     "text": [
      "(20, 300)\n",
      "(20, 300)\n"
     ]
    },
    {
     "data": {
      "image/png": "[encoded data removed]",
      "text/plain": [
       "<Figure size 432x288 with 1 Axes>"
      ]
     },
     "metadata": {
      "needs_background": "light"
     },
     "output_type": "display_data"
    }
   ],
   "source": [
    "repeat = field.shape[0]\n",
    "vx = np.sum(field.reshape(repeat,300,-1,3)[:,:,:,1],axis=-1)/N\n",
    "vy = np.sum(field.reshape(repeat,300,-1,3)[:,:,:,2],axis=-1)/N\n",
    "print(vx.shape)\n",
    "v_avg = np.linalg.norm(np.array([vx,vy]),axis=0)\n",
    "print(v_avg.shape)\n",
    "plt.plot(((vx+vy)/v_avg)[0,:])\n",
    "# print(np.mean(v_avg,axis=1))\n",
    "plt.ylim(-1.5,1.5)\n",
    "plt.show()"
   ]
  },
  {
   "cell_type": "markdown",
   "id": "f51c3cd2",
   "metadata": {},
   "source": [
    "## 批量生成不同的eta画相变图'"
   ]
  },
  {
   "cell_type": "code",
   "execution_count": 25,
   "id": "af10cab2",
   "metadata": {
    "scrolled": true
   },
   "outputs": [
    {
     "name": "stdout",
     "output_type": "stream",
     "text": [
      "rho= 0.3046875\n",
      "0.3\n"
     ]
    },
    {
     "name": "stderr",
     "output_type": "stream",
     "text": [
      "100%|███████████████████████████████████████████████████████████████████████████████████████████████████████████████| 50/50 [00:04<00:00, 12.27it/s]\n",
      "100%|███████████████████████████████████████████████████████████████████████████████████████████████████████████████| 50/50 [00:04<00:00, 12.14it/s]\n",
      "100%|███████████████████████████████████████████████████████████████████████████████████████████████████████████████| 50/50 [00:04<00:00, 11.92it/s]\n",
      "100%|███████████████████████████████████████████████████████████████████████████████████████████████████████████████| 50/50 [00:04<00:00, 12.36it/s]\n",
      "100%|███████████████████████████████████████████████████████████████████████████████████████████████████████████████| 50/50 [00:04<00:00, 12.36it/s]\n",
      "100%|███████████████████████████████████████████████████████████████████████████████████████████████████████████████| 50/50 [00:04<00:00, 11.88it/s]\n",
      "100%|███████████████████████████████████████████████████████████████████████████████████████████████████████████████| 50/50 [00:04<00:00, 12.36it/s]\n",
      "100%|███████████████████████████████████████████████████████████████████████████████████████████████████████████████| 50/50 [00:04<00:00, 12.42it/s]\n",
      "100%|███████████████████████████████████████████████████████████████████████████████████████████████████████████████| 50/50 [00:04<00:00, 12.42it/s]\n",
      "100%|███████████████████████████████████████████████████████████████████████████████████████████████████████████████| 50/50 [00:04<00:00, 12.43it/s]\n",
      "100%|███████████████████████████████████████████████████████████████████████████████████████████████████████████████| 50/50 [00:04<00:00, 11.89it/s]\n",
      "100%|███████████████████████████████████████████████████████████████████████████████████████████████████████████████| 50/50 [00:04<00:00, 11.90it/s]\n",
      "100%|███████████████████████████████████████████████████████████████████████████████████████████████████████████████| 50/50 [00:04<00:00, 12.43it/s]\n",
      "100%|███████████████████████████████████████████████████████████████████████████████████████████████████████████████| 50/50 [00:04<00:00, 12.43it/s]\n",
      "100%|███████████████████████████████████████████████████████████████████████████████████████████████████████████████| 50/50 [00:04<00:00, 12.40it/s]\n",
      "100%|███████████████████████████████████████████████████████████████████████████████████████████████████████████████| 50/50 [00:04<00:00, 12.38it/s]\n",
      "100%|███████████████████████████████████████████████████████████████████████████████████████████████████████████████| 50/50 [00:04<00:00, 12.40it/s]\n",
      "100%|███████████████████████████████████████████████████████████████████████████████████████████████████████████████| 50/50 [00:04<00:00, 12.27it/s]\n",
      "100%|███████████████████████████████████████████████████████████████████████████████████████████████████████████████| 50/50 [00:04<00:00, 12.12it/s]\n",
      "100%|███████████████████████████████████████████████████████████████████████████████████████████████████████████████| 50/50 [00:04<00:00, 12.27it/s]\n",
      "100%|███████████████████████████████████████████████████████████████████████████████████████████████████████████████| 50/50 [00:04<00:00, 11.64it/s]\n",
      "100%|███████████████████████████████████████████████████████████████████████████████████████████████████████████████| 50/50 [00:04<00:00, 12.28it/s]\n",
      "100%|███████████████████████████████████████████████████████████████████████████████████████████████████████████████| 50/50 [00:04<00:00, 11.43it/s]\n",
      "100%|███████████████████████████████████████████████████████████████████████████████████████████████████████████████| 50/50 [00:04<00:00, 12.05it/s]\n",
      "100%|███████████████████████████████████████████████████████████████████████████████████████████████████████████████| 50/50 [00:04<00:00, 12.12it/s]\n",
      "100%|███████████████████████████████████████████████████████████████████████████████████████████████████████████████| 50/50 [00:04<00:00, 11.79it/s]\n",
      "100%|███████████████████████████████████████████████████████████████████████████████████████████████████████████████| 50/50 [00:04<00:00, 11.90it/s]\n",
      "100%|███████████████████████████████████████████████████████████████████████████████████████████████████████████████| 50/50 [00:04<00:00, 11.98it/s]\n",
      "100%|███████████████████████████████████████████████████████████████████████████████████████████████████████████████| 50/50 [00:04<00:00, 12.17it/s]\n",
      "100%|███████████████████████████████████████████████████████████████████████████████████████████████████████████████| 50/50 [00:04<00:00, 11.93it/s]\n",
      "100%|███████████████████████████████████████████████████████████████████████████████████████████████████████████████| 50/50 [00:04<00:00, 12.32it/s]\n",
      "100%|███████████████████████████████████████████████████████████████████████████████████████████████████████████████| 50/50 [00:04<00:00, 12.29it/s]\n",
      "100%|███████████████████████████████████████████████████████████████████████████████████████████████████████████████| 50/50 [00:04<00:00, 12.31it/s]\n",
      "100%|███████████████████████████████████████████████████████████████████████████████████████████████████████████████| 50/50 [00:04<00:00, 12.31it/s]\n",
      "100%|███████████████████████████████████████████████████████████████████████████████████████████████████████████████| 50/50 [00:04<00:00, 12.30it/s]\n",
      "100%|███████████████████████████████████████████████████████████████████████████████████████████████████████████████| 50/50 [00:04<00:00, 12.30it/s]\n",
      "100%|███████████████████████████████████████████████████████████████████████████████████████████████████████████████| 50/50 [00:04<00:00, 12.30it/s]\n",
      "100%|███████████████████████████████████████████████████████████████████████████████████████████████████████████████| 50/50 [00:04<00:00, 12.29it/s]\n",
      "100%|███████████████████████████████████████████████████████████████████████████████████████████████████████████████| 50/50 [00:04<00:00, 12.30it/s]\n",
      "100%|███████████████████████████████████████████████████████████████████████████████████████████████████████████████| 50/50 [00:04<00:00, 12.28it/s]\n",
      "100%|███████████████████████████████████████████████████████████████████████████████████████████████████████████████| 50/50 [00:04<00:00, 11.94it/s]\n",
      "100%|███████████████████████████████████████████████████████████████████████████████████████████████████████████████| 50/50 [00:04<00:00, 12.28it/s]\n",
      "100%|███████████████████████████████████████████████████████████████████████████████████████████████████████████████| 50/50 [00:04<00:00, 12.24it/s]\n",
      "100%|███████████████████████████████████████████████████████████████████████████████████████████████████████████████| 50/50 [00:04<00:00, 12.27it/s]\n",
      "100%|███████████████████████████████████████████████████████████████████████████████████████████████████████████████| 50/50 [00:04<00:00, 12.26it/s]\n",
      "100%|███████████████████████████████████████████████████████████████████████████████████████████████████████████████| 50/50 [00:04<00:00, 12.21it/s]\n",
      "100%|███████████████████████████████████████████████████████████████████████████████████████████████████████████████| 50/50 [00:04<00:00, 12.03it/s]\n",
      "100%|███████████████████████████████████████████████████████████████████████████████████████████████████████████████| 50/50 [00:04<00:00, 12.12it/s]\n",
      "100%|███████████████████████████████████████████████████████████████████████████████████████████████████████████████| 50/50 [00:04<00:00, 12.21it/s]\n",
      "100%|███████████████████████████████████████████████████████████████████████████████████████████████████████████████| 50/50 [00:04<00:00, 12.24it/s]\n"
     ]
    }
   ],
   "source": [
    "\n",
    "L=16#32#64#10#3.65\n",
    "N =78#307#1229#8192#2048#30\n",
    "# L = 10\n",
    "# N = 100\n",
    "print('rho=',N/L/L)\n",
    "# eta=0.5#0.2#0.45#1\n",
    "r_vision=1\n",
    "rho = round(N/L/L,2)\n",
    "print(rho)\n",
    "box_size = L\n",
    "resolution = 1\n",
    "lattice = int(box_size/resolution)\n",
    "repeats = 50\n",
    "timestep = 1000\n",
    "# seed = 2051\n",
    "# eta= 2.5#2#0.5#3.25#2#\n",
    "etas = np.linspace(1,2.5,50)\n",
    "\n",
    "# field = np.zeros([data_all.shape[0],data_all.shape[1],lattice,lattice])\n",
    "\n",
    "for eta_index,eta in enumerate(etas):\n",
    "#     print(eta)\n",
    "#     eta_index = eta_index+2\n",
    "    agents = np.zeros([repeats, 300,N,4])\n",
    "    for r in tqdm(range(repeats)):\n",
    "        data = generate_vecsek_data(N, L)\n",
    "        for i in range(timestep):\n",
    "            data,adj = vecsek_update(data, eta, r_vision,L)\n",
    "            del adj\n",
    "            if i > 699:\n",
    "                agents[r,i-700,:,:] = data\n",
    "    with open(f'./data/rho=0.3/eta_group_L={L}/eta={eta:.3f}_p={rho}.pkl','wb') as f:\n",
    "        pkl.dump(agents,f)\n"
   ]
  },
  {
   "cell_type": "code",
   "execution_count": 26,
   "id": "674eefb9",
   "metadata": {},
   "outputs": [
    {
     "data": {
      "text/plain": [
       "(50, 300, 78, 4)"
      ]
     },
     "execution_count": 26,
     "metadata": {},
     "output_type": "execute_result"
    }
   ],
   "source": [
    "agents.shape"
   ]
  },
  {
   "cell_type": "code",
   "execution_count": 27,
   "id": "b4323f21",
   "metadata": {},
   "outputs": [
    {
     "ename": "ValueError",
     "evalue": "could not broadcast input array from shape (10,300) into shape (50,300)",
     "output_type": "error",
     "traceback": [
      "\u001b[0;31m---------------------------------------------------------------------------\u001b[0m",
      "\u001b[0;31mValueError\u001b[0m                                Traceback (most recent call last)",
      "\u001b[0;32m/var/folders/36/2z_z9lys2p36d8xnjvxdfzcw0000gn/T/ipykernel_99349/3254218821.py\u001b[0m in \u001b[0;36m<module>\u001b[0;34m\u001b[0m\n\u001b[1;32m     11\u001b[0m     \u001b[0mx\u001b[0m \u001b[0;34m=\u001b[0m \u001b[0mnp\u001b[0m\u001b[0;34m.\u001b[0m\u001b[0mmean\u001b[0m\u001b[0;34m(\u001b[0m\u001b[0mdata\u001b[0m\u001b[0;34m[\u001b[0m\u001b[0;34m:\u001b[0m\u001b[0;34m,\u001b[0m\u001b[0;34m:\u001b[0m\u001b[0;34m,\u001b[0m\u001b[0;34m:\u001b[0m\u001b[0;34m,\u001b[0m\u001b[0;36m2\u001b[0m\u001b[0;34m]\u001b[0m\u001b[0;34m,\u001b[0m\u001b[0maxis\u001b[0m\u001b[0;34m=\u001b[0m\u001b[0;34m-\u001b[0m\u001b[0;36m1\u001b[0m\u001b[0;34m)\u001b[0m\u001b[0;34m[\u001b[0m\u001b[0;34m:\u001b[0m\u001b[0;36m10\u001b[0m\u001b[0;34m,\u001b[0m\u001b[0;34m:\u001b[0m\u001b[0;34m]\u001b[0m\u001b[0;34m\u001b[0m\u001b[0;34m\u001b[0m\u001b[0m\n\u001b[1;32m     12\u001b[0m     \u001b[0my\u001b[0m \u001b[0;34m=\u001b[0m \u001b[0mnp\u001b[0m\u001b[0;34m.\u001b[0m\u001b[0mmean\u001b[0m\u001b[0;34m(\u001b[0m\u001b[0mdata\u001b[0m\u001b[0;34m[\u001b[0m\u001b[0;34m:\u001b[0m\u001b[0;34m,\u001b[0m\u001b[0;34m:\u001b[0m\u001b[0;34m,\u001b[0m\u001b[0;34m:\u001b[0m\u001b[0;34m,\u001b[0m\u001b[0;36m3\u001b[0m\u001b[0;34m]\u001b[0m\u001b[0;34m,\u001b[0m\u001b[0maxis\u001b[0m\u001b[0;34m=\u001b[0m\u001b[0;34m-\u001b[0m\u001b[0;36m1\u001b[0m\u001b[0;34m)\u001b[0m\u001b[0;34m[\u001b[0m\u001b[0;34m:\u001b[0m\u001b[0;36m10\u001b[0m\u001b[0;34m,\u001b[0m\u001b[0;34m:\u001b[0m\u001b[0;34m]\u001b[0m\u001b[0;34m\u001b[0m\u001b[0;34m\u001b[0m\u001b[0m\n\u001b[0;32m---> 13\u001b[0;31m     \u001b[0morder_params_16\u001b[0m\u001b[0;34m[\u001b[0m\u001b[0mi\u001b[0m\u001b[0;34m,\u001b[0m\u001b[0;34m:\u001b[0m\u001b[0;34m,\u001b[0m\u001b[0;34m:\u001b[0m\u001b[0;34m]\u001b[0m \u001b[0;34m=\u001b[0m \u001b[0mnp\u001b[0m\u001b[0;34m.\u001b[0m\u001b[0mlinalg\u001b[0m\u001b[0;34m.\u001b[0m\u001b[0mnorm\u001b[0m\u001b[0;34m(\u001b[0m\u001b[0mnp\u001b[0m\u001b[0;34m.\u001b[0m\u001b[0marray\u001b[0m\u001b[0;34m(\u001b[0m\u001b[0;34m[\u001b[0m\u001b[0mx\u001b[0m\u001b[0;34m,\u001b[0m\u001b[0my\u001b[0m\u001b[0;34m]\u001b[0m\u001b[0;34m)\u001b[0m\u001b[0;34m,\u001b[0m\u001b[0maxis\u001b[0m\u001b[0;34m=\u001b[0m\u001b[0;36m0\u001b[0m\u001b[0;34m)\u001b[0m\u001b[0;34m\u001b[0m\u001b[0;34m\u001b[0m\u001b[0m\n\u001b[0m\u001b[1;32m     14\u001b[0m \u001b[0morder_params_16\u001b[0m\u001b[0;34m.\u001b[0m\u001b[0mshape\u001b[0m\u001b[0;34m\u001b[0m\u001b[0;34m\u001b[0m\u001b[0m\n",
      "\u001b[0;31mValueError\u001b[0m: could not broadcast input array from shape (10,300) into shape (50,300)"
     ]
    }
   ],
   "source": [
    "'agent data'\n",
    "L=16#64\n",
    "rho=0.3\n",
    "N = L*L*rho\n",
    "etas = np.linspace(1,2.5,50)\n",
    "\n",
    "order_params_16 = np.zeros([len(etas),50,300])\n",
    "for i,eta in enumerate(etas):\n",
    "    with open(f'./data/rho=0.3/eta_group_L={L}/eta={eta:.3f}_p={rho}.pkl','rb') as f:\n",
    "        data = pkl.load(f)\n",
    "    x = np.mean(data[:,:,:,2],axis=-1)[:10,:]\n",
    "    y = np.mean(data[:,:,:,3],axis=-1)[:10,:]\n",
    "    order_params_16[i,:,:] = np.linalg.norm(np.array([x,y]),axis=0)\n",
    "order_params_16.shape"
   ]
  },
  {
   "cell_type": "code",
   "execution_count": 18,
   "id": "67943a22",
   "metadata": {},
   "outputs": [
    {
     "data": {
      "text/plain": [
       "(50, 10, 300)"
      ]
     },
     "execution_count": 18,
     "metadata": {},
     "output_type": "execute_result"
    }
   ],
   "source": [
    "'agent data'\n",
    "L=64\n",
    "rho=0.3\n",
    "N = L*L*rho\n",
    "etas = np.linspace(1,2.5,50)\n",
    "\n",
    "order_params_64 = np.zeros([len(etas),10,300])\n",
    "for i,eta in enumerate(etas):\n",
    "    with open(f'./data/rho=0.3/eta_group_L={L}/eta={eta:.3f}_p={rho}.pkl','rb') as f:\n",
    "        data = pkl.load(f)\n",
    "    x = np.mean(data[:,:,:,2],axis=-1)[:10,:]\n",
    "    y = np.mean(data[:,:,:,3],axis=-1)[:10,:]\n",
    "    order_params_64[i,:,:] = np.linalg.norm(np.array([x,y]),axis=0)\n",
    "order_params_64.shape"
   ]
  },
  {
   "cell_type": "code",
   "execution_count": 19,
   "id": "be689c78",
   "metadata": {},
   "outputs": [
    {
     "name": "stderr",
     "output_type": "stream",
     "text": [
      "50it [00:01, 44.03it/s]\n"
     ]
    },
    {
     "data": {
      "text/plain": [
       "(50, 10, 300)"
      ]
     },
     "execution_count": 19,
     "metadata": {},
     "output_type": "execute_result"
    }
   ],
   "source": [
    "'agent data'\n",
    "L=32\n",
    "rho=0.3\n",
    "N = L*L*rho\n",
    "etas = np.linspace(1,2.5,50)\n",
    "\n",
    "order_params_32 = np.zeros([len(etas),10,300])\n",
    "for i,eta in tqdm(enumerate(etas)):\n",
    "    with open(f'./data/rho=0.3/eta_group_L={L}/eta={eta:.3f}_p={rho}.pkl','rb') as f:\n",
    "        data = pkl.load(f)\n",
    "    x = np.mean(data[:,:,:,2],axis=-1)[:10,:]\n",
    "    y = np.mean(data[:,:,:,3],axis=-1)[:10,:]\n",
    "    order_params_32[i,:,:] = np.linalg.norm(np.array([x,y]),axis=0)\n",
    "order_params_32.shape"
   ]
  },
  {
   "cell_type": "code",
   "execution_count": 20,
   "id": "47a57e5f",
   "metadata": {},
   "outputs": [
    {
     "data": {
      "text/html": [
       "<svg  width=\"275\" height=\"55\"><rect x=\"0\" y=\"0\" width=\"55\" height=\"55\" style=\"fill:#1373b2;stroke-width:2;stroke:rgb(255,255,255)\"/><rect x=\"55\" y=\"0\" width=\"55\" height=\"55\" style=\"fill:#42a6cc;stroke-width:2;stroke:rgb(255,255,255)\"/><rect x=\"110\" y=\"0\" width=\"55\" height=\"55\" style=\"fill:#7cccc4;stroke-width:2;stroke:rgb(255,255,255)\"/><rect x=\"165\" y=\"0\" width=\"55\" height=\"55\" style=\"fill:#b4e2ba;stroke-width:2;stroke:rgb(255,255,255)\"/><rect x=\"220\" y=\"0\" width=\"55\" height=\"55\" style=\"fill:#daf0d4;stroke-width:2;stroke:rgb(255,255,255)\"/></svg>"
      ],
      "text/plain": [
       "[(0.07497116493656286, 0.4526874279123414, 0.6969319492502883),\n",
       " (0.2601307189542484, 0.6509803921568628, 0.7999999999999999),\n",
       " (0.485121107266436, 0.801045751633987, 0.7677047289504038),\n",
       " (0.7058823529411765, 0.8849673202614379, 0.7307189542483661),\n",
       " (0.8535178777393311, 0.9429757785467128, 0.8314186851211073)]"
      ]
     },
     "execution_count": 20,
     "metadata": {},
     "output_type": "execute_result"
    }
   ],
   "source": [
    "import seaborn as sns\n",
    "colors = sns.color_palette('GnBu_r',5)#autumn\n",
    "colors"
   ]
  },
  {
   "cell_type": "code",
   "execution_count": 23,
   "id": "9980be4b",
   "metadata": {},
   "outputs": [
    {
     "data": {
      "image/png": "[encoded data removed]",
      "text/plain": [
       "<Figure size 432x288 with 1 Axes>"
      ]
     },
     "metadata": {
      "needs_background": "light"
     },
     "output_type": "display_data"
    },
    {
     "data": {
      "image/png": "[encoded data removed]",
      "text/plain": [
       "<Figure size 432x288 with 1 Axes>"
      ]
     },
     "metadata": {
      "needs_background": "light"
     },
     "output_type": "display_data"
    }
   ],
   "source": [
    "\n",
    "\n",
    "plt.scatter(etas, np.mean(abs(np.mean(order_params_16,axis=-1)),axis=-1),color=colors[0],marker='^',label='L=16')\n",
    "plt.scatter(etas, np.mean(abs(np.mean(order_params_32,axis=-1)),axis=-1),color=colors[1],marker='s',label='L=32')\n",
    "plt.scatter(etas, np.mean(abs(np.mean(order_params_64,axis=-1)),axis=-1),color=colors[3],marker='o',label='L=64')\n",
    "plt.legend(fontsize=16)\n",
    "set_plot_basicinf(r'$\\phi$',f'$\\eta$',18)\n",
    "plt.show()\n",
    "\n",
    "plt.scatter(etas, np.mean(abs(np.std(order_params_16,axis=-1)),axis=-1),color=colors[0],marker='^',label='L=16')\n",
    "plt.scatter(etas, np.mean(abs(np.std(order_params_32,axis=-1)),axis=-1),color=colors[1],marker='s',label='L=32')\n",
    "plt.scatter(etas, np.mean(abs(np.std(order_params_64,axis=-1)),axis=-1),color=colors[3],marker='o',label='L=64')\n",
    "plt.legend(fontsize=16)\n",
    "set_plot_basicinf('$\\sigma$',f'$\\eta$',18)\n",
    "plt.show()\n"
   ]
  },
  {
   "cell_type": "code",
   "execution_count": null,
   "id": "ebe8994d",
   "metadata": {},
   "outputs": [],
   "source": []
  },
  {
   "cell_type": "code",
   "execution_count": null,
   "id": "ca17c917",
   "metadata": {},
   "outputs": [],
   "source": []
  },
  {
   "cell_type": "code",
   "execution_count": 55,
   "id": "d3b07765",
   "metadata": {},
   "outputs": [
    {
     "name": "stderr",
     "output_type": "stream",
     "text": [
      "50it [00:11,  4.48it/s]\n"
     ]
    },
    {
     "data": {
      "text/plain": [
       "(50, 30, 300)"
      ]
     },
     "execution_count": 55,
     "metadata": {},
     "output_type": "execute_result"
    }
   ],
   "source": [
    "'field data'\n",
    "L=32\n",
    "rho=0.3\n",
    "N = L*L*rho\n",
    "etas = np.linspace(1,2.5,50)\n",
    "# all_data = np.zeros([len(etas),9000,32,32,3])\n",
    "order_params = np.zeros([len(etas),30,300])\n",
    "for i, eta in tqdm(enumerate(etas)):\n",
    "    with open(f'./data/rho=0.3/eta_group_L=32/eta={eta:.3f}_p=0.3_L=32_field.pkl','rb') as f:\n",
    "        data = pkl.load(f)['field']\n",
    "        b,t,_,_,_ = data.shape\n",
    "        data  = data.reshape(b,t,L*L,3)\n",
    "#         all_data[i,:,:,:,:] = data.reshape(-1,32,32,3)\n",
    "        x = np.mean(data[:,:,:,1],axis=-1)\n",
    "        y = np.mean(data[:,:,:,2],axis=-1)\n",
    "#         print(x.shape)\n",
    "        \n",
    "        order_params[i,:,:] = np.linalg.norm(np.array([x,y]),axis=0)\n",
    "order_params.shape"
   ]
  },
  {
   "cell_type": "code",
   "execution_count": null,
   "id": "bc9dbd84",
   "metadata": {},
   "outputs": [],
   "source": [
    "plt.scatter(etas, np.mean(abs(np.mean(order_params,axis=-1)),axis=-1),label='L=32')\n",
    "plt.scatter(etas, np.mean(abs(np.mean(order_params_64,axis=-1)),axis=-1),label='L=64')\n",
    "\n",
    "set_plot_basicinf('<v>',f'$\\eta$',14)\n",
    "plt.show()\n",
    "\n",
    "plt.scatter(etas, np.mean(abs(np.std(order_params,axis=-1)),axis=-1),label='L=32')\n",
    "plt.scatter(etas, np.mean(abs(np.std(order_params_64,axis=-1)),axis=-1),label='L=64')\n",
    "set_plot_basicinf('$\\sigma$',f'$\\eta$',14)\n",
    "plt.show()\n"
   ]
  },
  {
   "cell_type": "code",
   "execution_count": null,
   "id": "ffcc65b2",
   "metadata": {},
   "outputs": [],
   "source": []
  }
 ],
 "metadata": {
  "kernelspec": {
   "display_name": "Python 3 (ipykernel)",
   "language": "python",
   "name": "python3"
  },
  "language_info": {
   "codemirror_mode": {
    "name": "ipython",
    "version": 3
   },
   "file_extension": ".py",
   "mimetype": "text/x-python",
   "name": "python",
   "nbconvert_exporter": "python",
   "pygments_lexer": "ipython3",
   "version": "3.7.13"
  }
 },
 "nbformat": 4,
 "nbformat_minor": 5
}
