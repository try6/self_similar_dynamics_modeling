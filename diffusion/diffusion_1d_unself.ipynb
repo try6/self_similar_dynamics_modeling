{
 "cells": [
  {
   "cell_type": "code",
   "execution_count": 7,
   "id": "102c56d0",
   "metadata": {},
   "outputs": [],
   "source": [
    "import numpy as np\n",
    "\n",
    "import torch\n",
    "import pickle as pkl\n",
    "from torch.nn.modules.module import Module\n",
    "import torch.nn as nn\n",
    "import torch.nn.functional as F\n",
    "import torch.optim as optim\n",
    "import matplotlib.pyplot as plt\n",
    "import random\n",
    "from tqdm import tqdm\n",
    "use_cuda = False#torch.cuda.is_available()\n",
    "# device = torch.device('cuda:6') if use_cuda else torch.device('cpu')"
   ]
  },
  {
   "cell_type": "code",
   "execution_count": 2,
   "id": "aac793f9",
   "metadata": {},
   "outputs": [
    {
     "data": {
      "text/plain": [
       "torch.Size([50, 20, 100])"
      ]
     },
     "execution_count": 2,
     "metadata": {},
     "output_type": "execute_result"
    }
   ],
   "source": [
    "s_group_data = 3\n",
    "with open(f'./data/diffusion_process_1d_discrite_macro_s_group={s_group_data}.pkl','rb') as f:\n",
    "# with open(f'./data/diffusion_process_1d_discrite.pkl','rb') as f:\n",
    "    data = pkl.load(f)[:,:20,:]\n",
    "data = torch.tensor(data,dtype=torch.float)\n",
    "data.shape"
   ]
  },
  {
   "cell_type": "code",
   "execution_count": 3,
   "id": "cbf8af9e",
   "metadata": {},
   "outputs": [
    {
     "data": {
      "text/plain": [
       "torch.Size([950, 100])"
      ]
     },
     "execution_count": 3,
     "metadata": {},
     "output_type": "execute_result"
    }
   ],
   "source": [
    "\n",
    "L = data.shape[-1]\n",
    "pred_step = 1\n",
    "data_x = data[:,:-pred_step,:].reshape(-1,L)\n",
    "data_y = data[:,pred_step:,:].reshape(-1,L)\n",
    "data_x.shape\n"
   ]
  },
  {
   "cell_type": "code",
   "execution_count": 4,
   "id": "eaaa3275",
   "metadata": {},
   "outputs": [
    {
     "data": {
      "text/plain": [
       "<matplotlib.image.AxesImage at 0x7fe62cfb3450>"
      ]
     },
     "execution_count": 4,
     "metadata": {},
     "output_type": "execute_result"
    },
    {
     "data": {
      "image/png": "[encoded data removed]",
      "text/plain": [
       "<Figure size 432x288 with 1 Axes>"
      ]
     },
     "metadata": {
      "needs_background": "light"
     },
     "output_type": "display_data"
    }
   ],
   "source": [
    "plt.imshow(data_x[:150,:])"
   ]
  },
  {
   "cell_type": "code",
   "execution_count": 5,
   "id": "60890822",
   "metadata": {
    "scrolled": true
   },
   "outputs": [
    {
     "name": "stdout",
     "output_type": "stream",
     "text": [
      "380 190\n",
      "torch.Size([380, 100]) torch.Size([190, 100])\n"
     ]
    }
   ],
   "source": [
    "batch_size = 64\n",
    "valid_ratio = 0.2\n",
    "test_ratio = 0.2\n",
    "cut1 = int((valid_ratio+test_ratio)*data_x.shape[0])\n",
    "cut2 =  int(test_ratio*data_x.shape[0])\n",
    "print(cut1,cut2)\n",
    "train_data_x = data_x[:cut1,:]\n",
    "train_data_y = data_y[:cut1,:]\n",
    "valid_data_x = data_x[cut1:cut1+cut2,:]\n",
    "valid_data_y = data_y[cut1:cut1+cut2,:]\n",
    "\n",
    "print(train_data_x.shape,valid_data_x.shape)\n",
    "# print(dataset1)\n",
    "dataset1 = torch.utils.data.dataset.TensorDataset(train_data_x, train_data_y)\n",
    "dataset2 = torch.utils.data.dataset.TensorDataset(valid_data_x, valid_data_y)\n",
    "\n",
    "train_loader = torch.utils.data.DataLoader(dataset=dataset1,\n",
    "                                           batch_size=batch_size, \n",
    "                                           shuffle=False)\n",
    "\n",
    "valid_loader = torch.utils.data.DataLoader(dataset=dataset2,\n",
    "                                           batch_size=batch_size, \n",
    "                                           shuffle=True)\n"
   ]
  },
  {
   "cell_type": "code",
   "execution_count": 6,
   "id": "91b0be9b",
   "metadata": {},
   "outputs": [],
   "source": [
    "kernel_size=7\n",
    "import torch.nn.functional as F\n",
    "\n",
    "class NormalizedConv1d(nn.Module):\n",
    "    def __init__(self, in_channels, out_channels, kernel_size,padding,padding_mode):\n",
    "        super(NormalizedConv1d, self).__init__()\n",
    "        self.conv = nn.Conv1d(in_channels, out_channels, kernel_size, padding, padding_mode, bias=False)\n",
    "        self.softmax = nn.Softmax(dim=-1)\n",
    "    def forward(self, x):\n",
    "        # 对权重进行归一化\n",
    "        normed_weight = self.softmax(self.conv.weight)\n",
    "        return F.conv1d(x, normed_weight, self.conv.bias, stride=self.conv.stride,\n",
    "                        padding=self.conv.padding, dilation=self.conv.dilation)\n",
    "\n",
    "class Diffusion1D(nn.Module):\n",
    "    def __init__(self,channel=1):\n",
    "        super(Diffusion1D, self).__init__()\n",
    "        kernel = kernel_size\n",
    "        self.normconv = NormalizedConv1d(1, channel, kernel, padding=1, padding_mode='same')\n",
    "        self.relu = nn.ReLU()\n",
    "\n",
    "    def forward(self, x):\n",
    "        x = self.normconv(x.unsqueeze(1))\n",
    "        x = torch.transpose(x,2,1).squeeze()\n",
    "        return x"
   ]
  },
  {
   "cell_type": "code",
   "execution_count": 9,
   "id": "361b9012",
   "metadata": {
    "scrolled": true
   },
   "outputs": [
    {
     "name": "stderr",
     "output_type": "stream",
     "text": [
      "  1%|█▏                                                                                                          | 45/4000 [00:00<00:17, 221.66it/s]"
     ]
    },
    {
     "name": "stdout",
     "output_type": "stream",
     "text": [
      "save 0.0002625380972555528\n",
      "epoch: 0/4000: train loss:0.0002429050340045554,valid_loss:0.0002625380972555528\n",
      "save 0.00025405835185665637\n",
      "epoch: 10/4000: train loss:0.0002333492157049477,valid_loss:0.00025405835185665637\n",
      "save 0.0002445316786179319\n",
      "epoch: 20/4000: train loss:0.00022534203162649646,valid_loss:0.0002445316786179319\n",
      "save 0.00024040460023873797\n",
      "epoch: 30/4000: train loss:0.00021936707344138995,valid_loss:0.00024040460023873797\n",
      "save 0.00023484198997418085\n",
      "epoch: 40/4000: train loss:0.00021513583002767214,valid_loss:0.00023484198997418085\n"
     ]
    },
    {
     "name": "stderr",
     "output_type": "stream",
     "text": [
      "  2%|██▍                                                                                                         | 92/4000 [00:00<00:18, 211.90it/s]"
     ]
    },
    {
     "name": "stdout",
     "output_type": "stream",
     "text": [
      "save 0.00023267464227198312\n",
      "epoch: 50/4000: train loss:0.00021232159391123181,valid_loss:0.00023267464227198312\n",
      "save 0.00023177768647049865\n",
      "epoch: 60/4000: train loss:0.00021057468499445045,valid_loss:0.00023177768647049865\n",
      "save 0.0002308136560410882\n",
      "epoch: 70/4000: train loss:0.00020956228157350174,valid_loss:0.0002308136560410882\n",
      "save 0.00022926533226078996\n",
      "epoch: 80/4000: train loss:0.00020901179717232785,valid_loss:0.00022926533226078996\n",
      "save 0.0002287146586847181\n",
      "epoch: 90/4000: train loss:0.0002087292741634883,valid_loss:0.0002287146586847181\n"
     ]
    },
    {
     "name": "stderr",
     "output_type": "stream",
     "text": [
      "  4%|███▋                                                                                                       | 140/4000 [00:00<00:17, 225.82it/s]"
     ]
    },
    {
     "name": "stdout",
     "output_type": "stream",
     "text": [
      "save 0.000228671914859054\n",
      "epoch: 100/4000: train loss:0.00020859166397713125,valid_loss:0.000228671914859054\n",
      "epoch: 110/4000: train loss:0.00020852790718587735,valid_loss:0.00022886744894397756\n",
      "epoch: 120/4000: train loss:0.00020849977590842173,valid_loss:0.0002290970975688348\n",
      "epoch: 130/4000: train loss:0.00020848798885708675,valid_loss:0.00022951685241423547\n",
      "epoch: 140/4000: train loss:0.00020848328858846799,valid_loss:0.00022947989540019384\n"
     ]
    },
    {
     "name": "stderr",
     "output_type": "stream",
     "text": [
      "  5%|█████                                                                                                      | 189/4000 [00:00<00:16, 232.46it/s]"
     ]
    },
    {
     "name": "stdout",
     "output_type": "stream",
     "text": [
      "epoch: 150/4000: train loss:0.0002084815520599174,valid_loss:0.00022926361513479301\n",
      "epoch: 160/4000: train loss:0.0002084809408794778,valid_loss:0.00022922207426745445\n",
      "epoch: 170/4000: train loss:0.00020848075898053745,valid_loss:0.0002288283285452053\n",
      "epoch: 180/4000: train loss:0.00020848070319819575,valid_loss:0.0002288796725527694\n",
      "epoch: 190/4000: train loss:0.00020848071532479176,valid_loss:0.000228993371517087\n"
     ]
    },
    {
     "name": "stderr",
     "output_type": "stream",
     "text": [
      "  6%|██████▎                                                                                                    | 237/4000 [00:01<00:16, 233.90it/s]"
     ]
    },
    {
     "name": "stdout",
     "output_type": "stream",
     "text": [
      "epoch: 200/4000: train loss:0.00020848071532479176,valid_loss:0.00022912696780016026\n",
      "epoch: 210/4000: train loss:0.0002084807347273454,valid_loss:0.00022892742708791047\n",
      "save 0.00022866526948443303\n",
      "epoch: 220/4000: train loss:0.0002084807759577719,valid_loss:0.00022866526948443303\n",
      "epoch: 230/4000: train loss:0.0002084807783830911,valid_loss:0.000229152588872239\n",
      "epoch: 240/4000: train loss:0.00020848080506160235,valid_loss:0.00022903433030781647\n"
     ]
    },
    {
     "name": "stderr",
     "output_type": "stream",
     "text": [
      "  7%|███████▌                                                                                                   | 285/4000 [00:01<00:16, 230.27it/s]"
     ]
    },
    {
     "name": "stdout",
     "output_type": "stream",
     "text": [
      "epoch: 250/4000: train loss:0.0002084808341654328,valid_loss:0.00022876676909315088\n",
      "epoch: 260/4000: train loss:0.00020848085114266723,valid_loss:0.00022930188182120523\n",
      "save 0.00022807687734408924\n",
      "epoch: 270/4000: train loss:0.0002084808802464977,valid_loss:0.00022807687734408924\n",
      "epoch: 280/4000: train loss:0.00020848089237309372,valid_loss:0.00022896864781311402\n",
      "epoch: 290/4000: train loss:0.00020848092390224338,valid_loss:0.00022985468482753882\n"
     ]
    },
    {
     "name": "stderr",
     "output_type": "stream",
     "text": [
      "  8%|████████▉                                                                                                  | 334/4000 [00:01<00:15, 234.96it/s]"
     ]
    },
    {
     "name": "stdout",
     "output_type": "stream",
     "text": [
      "epoch: 300/4000: train loss:0.000208480931178201,valid_loss:0.00022878296052416167\n",
      "epoch: 310/4000: train loss:0.00020848095300607383,valid_loss:0.00022902851439236352\n",
      "epoch: 320/4000: train loss:0.00020848096998330826,valid_loss:0.00022878116093731174\n",
      "epoch: 330/4000: train loss:0.00020848100636309633,valid_loss:0.00022904924117028713\n",
      "epoch: 340/4000: train loss:0.00020848102576564997,valid_loss:0.0002286037391362091\n"
     ]
    },
    {
     "name": "stderr",
     "output_type": "stream",
     "text": [
      " 10%|██████████▏                                                                                                | 382/4000 [00:01<00:15, 231.59it/s]"
     ]
    },
    {
     "name": "stdout",
     "output_type": "stream",
     "text": [
      "epoch: 350/4000: train loss:0.00020848103546692678,valid_loss:0.00022837199018492052\n",
      "epoch: 360/4000: train loss:0.00020848107427203408,valid_loss:0.0002286663317742447\n",
      "epoch: 370/4000: train loss:0.0002084811009505453,valid_loss:0.0002284184495996063\n",
      "epoch: 380/4000: train loss:0.00020848111792777976,valid_loss:0.0002290999060884739\n",
      "epoch: 390/4000: train loss:0.0002084811397556526,valid_loss:0.0002290467576434215\n"
     ]
    },
    {
     "name": "stderr",
     "output_type": "stream",
     "text": [
      " 11%|███████████▌                                                                                               | 430/4000 [00:01<00:15, 230.21it/s]"
     ]
    },
    {
     "name": "stdout",
     "output_type": "stream",
     "text": [
      "epoch: 400/4000: train loss:0.00020848115430756783,valid_loss:0.00022888980068576834\n",
      "epoch: 410/4000: train loss:0.00020848117371012145,valid_loss:0.00022837681171949953\n",
      "epoch: 420/4000: train loss:0.0002084811955379943,valid_loss:0.0002289034891873598\n",
      "epoch: 430/4000: train loss:0.00020848120523927113,valid_loss:0.0002289376473830392\n",
      "epoch: 440/4000: train loss:0.0002084812464696976,valid_loss:0.00022904650055958578\n"
     ]
    },
    {
     "name": "stderr",
     "output_type": "stream",
     "text": [
      " 12%|████████████▊                                                                                              | 478/4000 [00:02<00:15, 231.14it/s]"
     ]
    },
    {
     "name": "stdout",
     "output_type": "stream",
     "text": [
      "epoch: 450/4000: train loss:0.00020848126344693205,valid_loss:0.00022810041264165193\n",
      "epoch: 460/4000: train loss:0.00020848127799884728,valid_loss:0.00022873746638651937\n",
      "epoch: 470/4000: train loss:0.0002084813046773585,valid_loss:0.00022902642861784747\n",
      "epoch: 480/4000: train loss:0.00020848132165459296,valid_loss:0.00022852404799778014\n",
      "epoch: 490/4000: train loss:0.000208481345907785,valid_loss:0.00022895325673744082\n"
     ]
    },
    {
     "name": "stderr",
     "output_type": "stream",
     "text": [
      " 13%|██████████████                                                                                             | 525/4000 [00:02<00:15, 226.74it/s]"
     ]
    },
    {
     "name": "stdout",
     "output_type": "stream",
     "text": [
      "epoch: 500/4000: train loss:0.0002084813556090618,valid_loss:0.00022914663228827217\n",
      "epoch: 510/4000: train loss:0.00020848137743693465,valid_loss:0.0002285219670739025\n",
      "epoch: 520/4000: train loss:0.0002084813968394883,valid_loss:0.00022866890746324012\n",
      "epoch: 530/4000: train loss:0.00020848141624204194,valid_loss:0.0002289956270639474\n",
      "epoch: 540/4000: train loss:0.00020848142594331875,valid_loss:0.0002290695895984148\n"
     ]
    },
    {
     "name": "stderr",
     "output_type": "stream",
     "text": [
      " 14%|███████████████▎                                                                                           | 573/4000 [00:02<00:16, 213.85it/s]"
     ]
    },
    {
     "name": "stdout",
     "output_type": "stream",
     "text": [
      "epoch: 550/4000: train loss:0.00020848145262183002,valid_loss:0.00022854216998287788\n",
      "epoch: 560/4000: train loss:0.00020848146717374524,valid_loss:0.0002287172683281824\n",
      "epoch: 570/4000: train loss:0.00020848148900161809,valid_loss:0.0002283933232926453\n",
      "epoch: 580/4000: train loss:0.00020848150355353331,valid_loss:0.0002287349101000776\n",
      "epoch: 590/4000: train loss:0.00020848152780672535,valid_loss:0.00022861049122487506\n"
     ]
    },
    {
     "name": "stderr",
     "output_type": "stream",
     "text": [
      " 16%|█████████████████▏                                                                                         | 642/4000 [00:02<00:15, 220.18it/s]"
     ]
    },
    {
     "name": "stdout",
     "output_type": "stream",
     "text": [
      "epoch: 600/4000: train loss:0.00020848153993332139,valid_loss:0.00022956644049069533\n",
      "epoch: 610/4000: train loss:0.00020848155448523661,valid_loss:0.0002284193760715425\n",
      "epoch: 620/4000: train loss:0.00020848156903715184,valid_loss:0.00022892319248057902\n",
      "epoch: 630/4000: train loss:0.00020848158601438627,valid_loss:0.00022926633149230233\n",
      "epoch: 640/4000: train loss:0.0002084816005663015,valid_loss:0.00022882806661073118\n"
     ]
    },
    {
     "name": "stderr",
     "output_type": "stream",
     "text": [
      " 17%|██████████████████▍                                                                                        | 688/4000 [00:03<00:14, 221.71it/s]"
     ]
    },
    {
     "name": "stdout",
     "output_type": "stream",
     "text": [
      "epoch: 650/4000: train loss:0.00020848161269289753,valid_loss:0.00022968279275422296\n",
      "epoch: 660/4000: train loss:0.00020848163694608957,valid_loss:0.00022861539522030702\n",
      "epoch: 670/4000: train loss:0.00020848164422204718,valid_loss:0.0002284119400428608\n",
      "epoch: 680/4000: train loss:0.00020848167332587764,valid_loss:0.00022866190314137688\n",
      "epoch: 690/4000: train loss:0.00020848167090055844,valid_loss:0.0002294777708205705\n"
     ]
    },
    {
     "name": "stderr",
     "output_type": "stream",
     "text": [
      " 18%|███████████████████▋                                                                                       | 734/4000 [00:03<00:14, 221.60it/s]"
     ]
    },
    {
     "name": "stdout",
     "output_type": "stream",
     "text": [
      "epoch: 700/4000: train loss:0.00020848167817651606,valid_loss:0.0002287222547844673\n",
      "epoch: 710/4000: train loss:0.0002084817048550273,valid_loss:0.00022914329989968488\n",
      "epoch: 720/4000: train loss:0.0002084817121309849,valid_loss:0.00022984048215827593\n",
      "epoch: 730/4000: train loss:0.00020848172910821935,valid_loss:0.00022827432258054614\n",
      "epoch: 740/4000: train loss:0.00020848173153353855,valid_loss:0.0002288009854964912\n"
     ]
    },
    {
     "name": "stderr",
     "output_type": "stream",
     "text": [
      " 20%|████████████████████▊                                                                                      | 780/4000 [00:03<00:14, 224.26it/s]"
     ]
    },
    {
     "name": "stdout",
     "output_type": "stream",
     "text": [
      "epoch: 750/4000: train loss:0.00020848174851077297,valid_loss:0.0002285477239638567\n",
      "epoch: 760/4000: train loss:0.0002084817630626882,valid_loss:0.00022873617126606405\n",
      "epoch: 770/4000: train loss:0.0002084817582120498,valid_loss:0.0002294025713733087\n"
     ]
    },
    {
     "name": "stderr",
     "output_type": "stream",
     "text": [
      "\n"
     ]
    }
   ],
   "source": [
    "\n",
    "kl_loss = nn.KLDivLoss()\n",
    "loss_F2 = torch.nn.MSELoss()\n",
    "L = data.shape[-1]\n",
    "seed = 2050\n",
    "num_epochs = 4000\n",
    "hidden_size = 8\n",
    "torch.manual_seed(seed)\n",
    "random.seed(seed)\n",
    "model = Diffusion1D()\n",
    "model = model.cuda() if use_cuda else model\n",
    "optimizer2 = optim.Adam(model.parameters(), lr=1e-3, weight_decay=5e-4)\n",
    "last_valid_loss = 10000\n",
    "count = 0\n",
    "train_losses2 = []\n",
    "valid_losses2 = []\n",
    "for epoch in tqdm(range(num_epochs)):\n",
    "    loss_t2 = []\n",
    "    loss_v2 = []\n",
    "    model.train()\n",
    "    for train_x,train_y in train_loader:\n",
    "        if use_cuda:\n",
    "            train_x = train_x.cuda()\n",
    "        pred = model(train_x)\n",
    "\n",
    "        loss = loss_F2(pred.view(-1),train_y.view(-1))\n",
    "    \n",
    "        optimizer2.zero_grad()\n",
    "        loss.backward()\n",
    "        optimizer2.step()\n",
    "        loss_t2.append(loss.item())\n",
    "    train_losses2.append(np.mean(loss_t2))\n",
    "\n",
    "    if epoch % 10 == 0:\n",
    "        model.eval()\n",
    "        for valid_x,valid_y in valid_loader:\n",
    "            if use_cuda:\n",
    "                valid_x = valid_x.cuda()\n",
    "            pred = model(valid_x)\n",
    "            loss = loss_F2(pred.view(-1),valid_y.view(-1))\n",
    "            loss_v2.append(loss.item())\n",
    "        valid_losses2.append(np.mean(loss_v2))\n",
    "        if np.mean(loss_v2) > last_valid_loss:\n",
    "            count += 1\n",
    "            if count > 50:\n",
    "                break\n",
    "        if np.mean(loss_v2) < last_valid_loss:\n",
    "            count = 0\n",
    "            print('save',np.mean(loss_v2))\n",
    "#             torch.save(model,f'./models/dynamic/diffusion_dynamic_s_group={s_group_data}_k={kernel_size}_{seed}.pth')\n",
    "            last_valid_loss = np.mean(loss_v2)\n",
    "\n",
    "        print(f'epoch: {epoch}/{num_epochs}: train loss:{np.mean(loss_t2)},valid_loss:{np.mean(loss_v2)}')\n",
    "        "
   ]
  },
  {
   "cell_type": "code",
   "execution_count": 11,
   "id": "eee30663",
   "metadata": {
    "scrolled": true
   },
   "outputs": [
    {
     "data": {
      "image/png": "[encoded data removed]",
      "text/plain": [
       "<Figure size 432x288 with 1 Axes>"
      ]
     },
     "metadata": {
      "needs_background": "light"
     },
     "output_type": "display_data"
    }
   ],
   "source": [
    "plt.plot(train_losses2)\n",
    "plt.plot(np.arange(0,len(train_losses2),10),valid_losses2)\n",
    "plt.ylabel('Loss',fontsize=14)\n",
    "plt.xlabel('Epoch',fontsize=14)\n",
    "plt.title(f's_group_data={s_group_data}')\n",
    "plt.yticks(fontsize=14)\n",
    "plt.xticks(fontsize=14)\n",
    "plt.show()"
   ]
  },
  {
   "cell_type": "code",
   "execution_count": 640,
   "id": "aa0da8e9",
   "metadata": {},
   "outputs": [],
   "source": [
    "i=1\n",
    "kernel_size=9\n",
    "seed=2050\n",
    "model = torch.load(f'./models/dynamic/diffusion_dynamic_s_group={i}_k={kernel_size}_{seed}.pth')"
   ]
  },
  {
   "cell_type": "code",
   "execution_count": 12,
   "id": "ad4f584c",
   "metadata": {},
   "outputs": [
    {
     "data": {
      "image/png": "[encoded data removed]",
      "text/plain": [
       "<Figure size 432x288 with 1 Axes>"
      ]
     },
     "metadata": {
      "needs_background": "light"
     },
     "output_type": "display_data"
    }
   ],
   "source": [
    "for j,param in enumerate(model.parameters()):\n",
    "    plt.bar(range(kernel_size),F.softmax(param[0,0,:],dim=-1).detach())"
   ]
  },
  {
   "cell_type": "code",
   "execution_count": 13,
   "id": "48357d78",
   "metadata": {},
   "outputs": [
    {
     "name": "stderr",
     "output_type": "stream",
     "text": [
      "100%|█████████████████████████████████████████████████████████████████████████████████████████████████████████████████| 1/1 [00:00<00:00,  1.27it/s]\n"
     ]
    },
    {
     "data": {
      "text/plain": [
       "(1, 900, 300)"
      ]
     },
     "execution_count": 13,
     "metadata": {},
     "output_type": "execute_result"
    }
   ],
   "source": [
    "'generate test data'\n",
    "s_group_data = s_group_data\n",
    "batch = 1\n",
    "grid_size = 100*s_group_data\n",
    "# 'number of particles'\n",
    "N = 1000\n",
    "steps = 100*s_group_data*s_group_data\n",
    "scale=1\n",
    "grids = np.zeros([batch,steps, grid_size])\n",
    "for b in tqdm(range(batch)):\n",
    "    grid = np.zeros([steps,grid_size])\n",
    "    # initialize the position for first step\n",
    "    posi = grid_size//2\n",
    "    position = np.array([int(i) for i in np.ones(N)*posi])#np.array([int(i) for i in np.ones(N)*grid_size // 2])#(grid_size // 2, grid_size // 2)\n",
    "    grid[0, position] = N\n",
    "\n",
    "    # avalible direction for each step \n",
    "    directions = [-1,1]\n",
    "    for i in range(steps-1):\n",
    "        # random choose a direction\n",
    "        direction = np.random.choice([-scale, scale], N)\n",
    "        # update the postion of particle\n",
    "        position = np.array([int(i) for i in (position + direction) % grid_size])\n",
    "        # move forward\n",
    "        for x in range(N):\n",
    "            grid[i+1,position[x]] =grid[i+1,position[x]] + 1\n",
    "    # normalization\n",
    "    grids[b,:,:] = grid/N\n",
    "grids.shape"
   ]
  },
  {
   "cell_type": "code",
   "execution_count": 15,
   "id": "3d0f966e",
   "metadata": {},
   "outputs": [
    {
     "name": "stdout",
     "output_type": "stream",
     "text": [
      "s_group: 3\n",
      "1 900 300\n",
      "(1, 100, 100)\n",
      "center: [50]\n"
     ]
    },
    {
     "data": {
      "image/png": "[encoded data removed]",
      "text/plain": [
       "<Figure size 720x216 with 3 Axes>"
      ]
     },
     "metadata": {
      "needs_background": "light"
     },
     "output_type": "display_data"
    }
   ],
   "source": [
    "'renormalization by hand, the size of macro matrix is 100*100'\n",
    "s_group = s_group_data\n",
    "print('s_group:',s_group)\n",
    "t_group = s_group*s_group\n",
    "plt.figure(figsize=(10,3))\n",
    "plt.subplot(121)\n",
    "aa = grids[:,:t_group*int(grids.shape[1]//t_group),:s_group*int(grids.shape[2]//s_group)]\n",
    "\n",
    "b = aa.shape[0]\n",
    "t = aa.shape[1]\n",
    "L = aa.shape[2]\n",
    "print(b,t,L)\n",
    "aa = aa.reshape(batch,t,-1, s_group)\n",
    "# sum over the space lattice with s_group\n",
    "space_macro = aa.sum(axis=-1)\n",
    "# take the interval of time with t_time\n",
    "# macro_data is the matrix after renormalizationmacro_data = space_macro[:,::t_group,:]\n",
    "print(macro_data.shape)\n",
    "center = np.where(macro_data[:,0,:] == 1)[1]\n",
    "print('center:',center)\n",
    "# Take kernel size=9 as an example to extract the kernel distribution of data\n",
    "center_index = np.where((center<macro_data.shape[-1]-5) & (center>4))[0]\n",
    "for b in range(macro_data.shape[0]):\n",
    "    kernels = np.zeros([len(center_index),1,9])\n",
    "    count = 0\n",
    "    if center[b] < macro_data.shape[-1]-5 and  center[b] > 4:\n",
    "        kernels[count] = macro_data[b,1:2,center[b]-4:center[b]+5]\n",
    "        count += 1\n",
    "macro_data = torch.tensor(macro_data, dtype=torch.float)\n",
    "plt.imshow(macro_data[-1,:10,center[-1]-5:center[-1]+5].T)\n",
    "plt.colorbar()\n",
    "plt.subplot(122)\n",
    "plt.bar(range(kernels.shape[-1]),np.mean(kernels,axis=0)[0,:])\n",
    "plt.suptitle(f's_group={s_group}')\n",
    "plt.show()"
   ]
  },
  {
   "cell_type": "code",
   "execution_count": 17,
   "id": "13197225",
   "metadata": {},
   "outputs": [
    {
     "data": {
      "text/plain": [
       "torch.Size([1, 100, 100])"
      ]
     },
     "execution_count": 17,
     "metadata": {},
     "output_type": "execute_result"
    }
   ],
   "source": [
    "macro_data.shape"
   ]
  },
  {
   "cell_type": "code",
   "execution_count": 18,
   "id": "2afc4f8a",
   "metadata": {},
   "outputs": [
    {
     "data": {
      "text/plain": [
       "torch.Size([99, 100])"
      ]
     },
     "execution_count": 18,
     "metadata": {},
     "output_type": "execute_result"
    }
   ],
   "source": [
    "test_data_x = macro_data[0,1:,:]\n",
    "test_data_y = macro_data[0,:-1,:]\n",
    "test_data_x.shape"
   ]
  },
  {
   "cell_type": "code",
   "execution_count": 19,
   "id": "4dba1414",
   "metadata": {
    "scrolled": false
   },
   "outputs": [
    {
     "data": {
      "image/png": "[encoded data removed]",
      "text/plain": [
       "<Figure size 432x288 with 1 Axes>"
      ]
     },
     "metadata": {
      "needs_background": "light"
     },
     "output_type": "display_data"
    },
    {
     "data": {
      "image/png": "[encoded data removed]",
      "text/plain": [
       "<Figure size 432x288 with 1 Axes>"
      ]
     },
     "metadata": {
      "needs_background": "light"
     },
     "output_type": "display_data"
    }
   ],
   "source": [
    "pred = model(test_data_x)\n",
    "plt.imshow(pred.detach()[:100,:].T,vmin=0,vmax=1)\n",
    "plt.title('pred')\n",
    "plt.show()\n",
    "plt.imshow(test_data_y.detach()[:100,:].T,vmin=0,vmax=1)\n",
    "plt.title('ground truth')\n",
    "plt.show()"
   ]
  },
  {
   "cell_type": "code",
   "execution_count": 20,
   "id": "9229d7f1",
   "metadata": {
    "scrolled": true
   },
   "outputs": [
    {
     "data": {
      "text/plain": [
       "tensor(0.0034)"
      ]
     },
     "execution_count": 20,
     "metadata": {},
     "output_type": "execute_result"
    }
   ],
   "source": [
    "torch.mean(abs(test_data_y - pred.detach()))"
   ]
  },
  {
   "cell_type": "code",
   "execution_count": null,
   "id": "44372dd4",
   "metadata": {},
   "outputs": [],
   "source": []
  }
 ],
 "metadata": {
  "kernelspec": {
   "display_name": "Python 3 (ipykernel)",
   "language": "python",
   "name": "python3"
  },
  "language_info": {
   "codemirror_mode": {
    "name": "ipython",
    "version": 3
   },
   "file_extension": ".py",
   "mimetype": "text/x-python",
   "name": "python",
   "nbconvert_exporter": "python",
   "pygments_lexer": "ipython3",
   "version": "3.7.13"
  }
 },
 "nbformat": 4,
 "nbformat_minor": 5
}
